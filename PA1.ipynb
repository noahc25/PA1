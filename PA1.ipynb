{
 "cells": [
  {
   "cell_type": "markdown",
   "id": "1a1a3b9e",
   "metadata": {},
   "source": [
    "# Programming Assignment 1\n",
    "## Noah Clark\n",
    "### 1.0\n",
    "#### CS-150-02"
   ]
  },
  {
   "cell_type": "code",
   "execution_count": 16,
   "id": "e418e0b1",
   "metadata": {},
   "outputs": [
    {
     "name": "stdout",
     "output_type": "stream",
     "text": [
      "Enter a floating point number: 10.7\n",
      "Enter an integer: 8\n",
      "The sum is:  18.7\n",
      "The difference is:  2.6999999999999993\n",
      "The product is:  85.6\n",
      "The quotient is:  1.3375\n",
      "The type for this result is  <class 'float'>\n"
     ]
    }
   ],
   "source": [
    "value=float(input(\"Enter a floating point number: \"))\n",
    "value2=int(input(\"Enter an integer: \"))\n",
    "print(\"The sum is: \", value+value2)\n",
    "print(\"The difference is: \", value-value2)\n",
    "print(\"The product is: \", value*value2)\n",
    "print(\"The quotient is: \", value/value2)\n",
    "print(\"The type for this result is \", type(value))"
   ]
  }
 ],
 "metadata": {
  "kernelspec": {
   "display_name": "Python 3",
   "language": "python",
   "name": "python3"
  },
  "language_info": {
   "codemirror_mode": {
    "name": "ipython",
    "version": 3
   },
   "file_extension": ".py",
   "mimetype": "text/x-python",
   "name": "python",
   "nbconvert_exporter": "python",
   "pygments_lexer": "ipython3",
   "version": "3.8.8"
  }
 },
 "nbformat": 4,
 "nbformat_minor": 5
}
